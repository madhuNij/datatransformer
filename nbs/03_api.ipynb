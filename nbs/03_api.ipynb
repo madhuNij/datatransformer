{
 "cells": [
  {
   "attachments": {},
   "cell_type": "markdown",
   "metadata": {},
   "source": [
    "# APIs\n",
    "\n",
    "> Fill in a module description here"
   ]
  },
  {
   "cell_type": "code",
   "execution_count": 126,
   "metadata": {},
   "outputs": [],
   "source": [
    "#| default_exp api"
   ]
  },
  {
   "cell_type": "code",
   "execution_count": 127,
   "metadata": {},
   "outputs": [],
   "source": [
    "# | hide\n",
    "from nbdev.showdoc import *"
   ]
  },
  {
   "cell_type": "code",
   "execution_count": 128,
   "metadata": {},
   "outputs": [],
   "source": [
    "#| hide\n",
    "import nbdev; nbdev.nbdev_export()"
   ]
  },
  {
   "cell_type": "code",
   "execution_count": 129,
   "metadata": {},
   "outputs": [],
   "source": [
    "#| export\n",
    "from abc import abstractclassmethod\n",
    "\n",
    "import wolframalpha\n",
    "import datetime\n",
    "from calendar import day_name, month_name\n",
    "from langchain import PromptTemplate"
   ]
  },
  {
   "attachments": {},
   "cell_type": "markdown",
   "metadata": {},
   "source": [
    "### Base API"
   ]
  },
  {
   "cell_type": "code",
   "execution_count": 130,
   "metadata": {},
   "outputs": [],
   "source": [
    "#| export\n",
    "class BaseAPI:\n",
    "    def __init__(\n",
    "        self,\n",
    "        name: str, # the name of the API call\n",
    "        prompt_template: PromptTemplate,\n",
    "        sampling_threshold: float = 0.2,\n",
    "        filtering_threshold: float = 0.2,\n",
    "    ):\n",
    "        self.name = name\n",
    "        self.prompt_template = prompt_template\n",
    "        self.sampling_threshold = sampling_threshold\n",
    "        self.filtering_threshold = filtering_threshold\n",
    "\n",
    "    @abstractclassmethod\n",
    "    def execute(self):\n",
    "        pass\n",
    "    \n",
    "    def __call__(self, *args: str, **kargs: str) -> str:\n",
    "        output = self.execute(*args, **kargs)\n",
    "        return str(output)"
   ]
  },
  {
   "attachments": {},
   "cell_type": "markdown",
   "metadata": {},
   "source": [
    "### Calculator API"
   ]
  },
  {
   "cell_type": "code",
   "execution_count": 131,
   "metadata": {},
   "outputs": [],
   "source": [
    "#| export\n",
    "class CalculatorAPI(BaseAPI):\n",
    "    def execute(self, input: str) -> str:\n",
    "        try:\n",
    "            return eval(input)\n",
    "        except:\n",
    "            return \"\""
   ]
  },
  {
   "attachments": {},
   "cell_type": "markdown",
   "metadata": {},
   "source": [
    "### Wolframe Alpha API"
   ]
  },
  {
   "cell_type": "code",
   "execution_count": 132,
   "metadata": {},
   "outputs": [],
   "source": [
    "#| export\n",
    "class WolframeAPI(BaseAPI):\n",
    "    def __init__(self, *args, api_key: str, **kargs):\n",
    "        super().__init__(*args, **kargs)\n",
    "        self.api_key = api_key\n",
    "        \n",
    "    def execute(self, input: str) -> str:\n",
    "        client = wolframalpha.Client(self.api_key)\n",
    "        res = client.query(input=input)\n",
    "        return next(res.results).text"
   ]
  },
  {
   "cell_type": "markdown",
   "metadata": {},
   "source": [
    "## Calendar API"
   ]
  },
  {
   "cell_type": "code",
   "execution_count": 133,
   "metadata": {},
   "outputs": [],
   "source": [
    "#| export\n",
    "class CalendarAPI(BaseAPI):\n",
    "    def execute(self, input: str) -> str:\n",
    "        try: \n",
    "            now = datetime.datetime.now()\n",
    "        #print(f'{day_name[now.weekday()]}, {month_name[now.month]} {now.day}, {now.year}.')\n",
    "            #return day_name[now.weekday()]\n",
    "            return f'Today is {day_name[now.weekday()]}, {month_name[now.month]} {now.day}, {now.year}.'\n",
    "        except:\n",
    "            return \"\"\n",
    "    #f'{day_name[now.weekday()]}, {month_name[now.month]} {now.day}, {now.year}.'"
   ]
  }
 ],
 "metadata": {
  "kernelspec": {
   "display_name": "python3",
   "language": "python",
   "name": "python3"
  },
  "language_info": {
   "codemirror_mode": {
    "name": "ipython",
    "version": 3
   },
   "file_extension": ".py",
   "mimetype": "text/x-python",
   "name": "python",
   "nbconvert_exporter": "python",
   "pygments_lexer": "ipython3",
   "version": "3.11.5"
  }
 },
 "nbformat": 4,
 "nbformat_minor": 2
}
